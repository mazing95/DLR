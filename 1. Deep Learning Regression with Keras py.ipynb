{
 "cells": [
  {
   "cell_type": "markdown",
   "metadata": {},
   "source": [
    "# Deep Learning Regression Model with Keras\n"
   ]
  },
  {
   "cell_type": "markdown",
   "metadata": {},
   "source": [
    "## Objective: \n",
    "\n",
    "This project builds a regression model using the deep learning Keras library, and then experiments with increasing the number of training epochs and changing number of hidden layers and to see how changing these parameters impacts the performance of the model.\n",
    "\n",
    "The dataset is about the compressive strength of different samples of concrete based on the volumes of the different ingredients that were used to make them. Ingredients include:\n",
    "\n",
    "1. Cement\n",
    "\n",
    "2. Blast Furnace Slag</strong>\n",
    "\n",
    "3. Fly Ash\n",
    "\n",
    "4. Water\n",
    "\n",
    "5. Superplasticizer\n",
    "\n",
    "6. Coarse Aggregate\n",
    "\n",
    "7. Fine Aggregate"
   ]
  },
  {
   "cell_type": "markdown",
   "metadata": {},
   "source": [
    "### 1. Downloading required libraries"
   ]
  },
  {
   "cell_type": "code",
   "execution_count": 4,
   "metadata": {
    "tags": []
   },
   "outputs": [],
   "source": [
    "# All Libraries required for this lab are listed below. The libraries pre-installed. \n",
    "\n",
    "#!pip install numpy==1.21.4\n",
    "#!pip install pandas==1.3.4\n",
    "#!pip install keras==2.1.6"
   ]
  },
  {
   "cell_type": "code",
   "execution_count": 2,
   "metadata": {
    "tags": []
   },
   "outputs": [],
   "source": [
    "import pandas as pd\n",
    "import numpy as np"
   ]
  },
  {
   "cell_type": "markdown",
   "metadata": {},
   "source": [
    "### 2. Downloading the data and reading it into a `pandas` dataframe.\n"
   ]
  },
  {
   "cell_type": "code",
   "execution_count": 3,
   "metadata": {
    "tags": []
   },
   "outputs": [
    {
     "data": {
      "text/html": [
       "<div>\n",
       "<style scoped>\n",
       "    .dataframe tbody tr th:only-of-type {\n",
       "        vertical-align: middle;\n",
       "    }\n",
       "\n",
       "    .dataframe tbody tr th {\n",
       "        vertical-align: top;\n",
       "    }\n",
       "\n",
       "    .dataframe thead th {\n",
       "        text-align: right;\n",
       "    }\n",
       "</style>\n",
       "<table border=\"1\" class=\"dataframe\">\n",
       "  <thead>\n",
       "    <tr style=\"text-align: right;\">\n",
       "      <th></th>\n",
       "      <th>Cement</th>\n",
       "      <th>Blast Furnace Slag</th>\n",
       "      <th>Fly Ash</th>\n",
       "      <th>Water</th>\n",
       "      <th>Superplasticizer</th>\n",
       "      <th>Coarse Aggregate</th>\n",
       "      <th>Fine Aggregate</th>\n",
       "      <th>Age</th>\n",
       "      <th>Strength</th>\n",
       "    </tr>\n",
       "  </thead>\n",
       "  <tbody>\n",
       "    <tr>\n",
       "      <th>0</th>\n",
       "      <td>540.0</td>\n",
       "      <td>0.0</td>\n",
       "      <td>0.0</td>\n",
       "      <td>162.0</td>\n",
       "      <td>2.5</td>\n",
       "      <td>1040.0</td>\n",
       "      <td>676.0</td>\n",
       "      <td>28</td>\n",
       "      <td>79.99</td>\n",
       "    </tr>\n",
       "    <tr>\n",
       "      <th>1</th>\n",
       "      <td>540.0</td>\n",
       "      <td>0.0</td>\n",
       "      <td>0.0</td>\n",
       "      <td>162.0</td>\n",
       "      <td>2.5</td>\n",
       "      <td>1055.0</td>\n",
       "      <td>676.0</td>\n",
       "      <td>28</td>\n",
       "      <td>61.89</td>\n",
       "    </tr>\n",
       "    <tr>\n",
       "      <th>2</th>\n",
       "      <td>332.5</td>\n",
       "      <td>142.5</td>\n",
       "      <td>0.0</td>\n",
       "      <td>228.0</td>\n",
       "      <td>0.0</td>\n",
       "      <td>932.0</td>\n",
       "      <td>594.0</td>\n",
       "      <td>270</td>\n",
       "      <td>40.27</td>\n",
       "    </tr>\n",
       "    <tr>\n",
       "      <th>3</th>\n",
       "      <td>332.5</td>\n",
       "      <td>142.5</td>\n",
       "      <td>0.0</td>\n",
       "      <td>228.0</td>\n",
       "      <td>0.0</td>\n",
       "      <td>932.0</td>\n",
       "      <td>594.0</td>\n",
       "      <td>365</td>\n",
       "      <td>41.05</td>\n",
       "    </tr>\n",
       "    <tr>\n",
       "      <th>4</th>\n",
       "      <td>198.6</td>\n",
       "      <td>132.4</td>\n",
       "      <td>0.0</td>\n",
       "      <td>192.0</td>\n",
       "      <td>0.0</td>\n",
       "      <td>978.4</td>\n",
       "      <td>825.5</td>\n",
       "      <td>360</td>\n",
       "      <td>44.30</td>\n",
       "    </tr>\n",
       "  </tbody>\n",
       "</table>\n",
       "</div>"
      ],
      "text/plain": [
       "   Cement  Blast Furnace Slag  Fly Ash  Water  Superplasticizer  \\\n",
       "0   540.0                 0.0      0.0  162.0               2.5   \n",
       "1   540.0                 0.0      0.0  162.0               2.5   \n",
       "2   332.5               142.5      0.0  228.0               0.0   \n",
       "3   332.5               142.5      0.0  228.0               0.0   \n",
       "4   198.6               132.4      0.0  192.0               0.0   \n",
       "\n",
       "   Coarse Aggregate  Fine Aggregate  Age  Strength  \n",
       "0            1040.0           676.0   28     79.99  \n",
       "1            1055.0           676.0   28     61.89  \n",
       "2             932.0           594.0  270     40.27  \n",
       "3             932.0           594.0  365     41.05  \n",
       "4             978.4           825.5  360     44.30  "
      ]
     },
     "execution_count": 3,
     "metadata": {},
     "output_type": "execute_result"
    }
   ],
   "source": [
    "concrete_data = pd.read_csv('https://s3-api.us-geo.objectstorage.softlayer.net/cf-courses-data/CognitiveClass/DL0101EN/labs/data/concrete_data.csv')\n",
    "concrete_data.head()"
   ]
  },
  {
   "cell_type": "markdown",
   "metadata": {},
   "source": [
    "So the first concrete sample has 540 cubic meter of cement, 0 cubic meter of blast furnace slag, 0 cubic meter of fly ash, 162 cubic meter of water, 2.5 cubic meter of superplaticizer, 1040 cubic meter of coarse aggregate, 676 cubic meter of fine aggregate. Such a concrete mix which is 28 days old, has a compressive strength of 79.99 MPa. \n"
   ]
  },
  {
   "cell_type": "markdown",
   "metadata": {},
   "source": [
    "Checking the number of data points \n"
   ]
  },
  {
   "cell_type": "code",
   "execution_count": 5,
   "metadata": {
    "tags": []
   },
   "outputs": [
    {
     "data": {
      "text/plain": [
       "(1030, 9)"
      ]
     },
     "execution_count": 5,
     "metadata": {},
     "output_type": "execute_result"
    }
   ],
   "source": [
    "concrete_data.shape"
   ]
  },
  {
   "cell_type": "markdown",
   "metadata": {},
   "source": [
    "There are approximately 1000 samples to train the model on. Because of the few samples, there should be caution not to overfit the training data.\n"
   ]
  },
  {
   "cell_type": "markdown",
   "metadata": {},
   "source": [
    "Checking the dataset for any missing values.\n"
   ]
  },
  {
   "cell_type": "code",
   "execution_count": 6,
   "metadata": {
    "tags": []
   },
   "outputs": [
    {
     "data": {
      "text/html": [
       "<div>\n",
       "<style scoped>\n",
       "    .dataframe tbody tr th:only-of-type {\n",
       "        vertical-align: middle;\n",
       "    }\n",
       "\n",
       "    .dataframe tbody tr th {\n",
       "        vertical-align: top;\n",
       "    }\n",
       "\n",
       "    .dataframe thead th {\n",
       "        text-align: right;\n",
       "    }\n",
       "</style>\n",
       "<table border=\"1\" class=\"dataframe\">\n",
       "  <thead>\n",
       "    <tr style=\"text-align: right;\">\n",
       "      <th></th>\n",
       "      <th>Cement</th>\n",
       "      <th>Blast Furnace Slag</th>\n",
       "      <th>Fly Ash</th>\n",
       "      <th>Water</th>\n",
       "      <th>Superplasticizer</th>\n",
       "      <th>Coarse Aggregate</th>\n",
       "      <th>Fine Aggregate</th>\n",
       "      <th>Age</th>\n",
       "      <th>Strength</th>\n",
       "    </tr>\n",
       "  </thead>\n",
       "  <tbody>\n",
       "    <tr>\n",
       "      <th>count</th>\n",
       "      <td>1030.000000</td>\n",
       "      <td>1030.000000</td>\n",
       "      <td>1030.000000</td>\n",
       "      <td>1030.000000</td>\n",
       "      <td>1030.000000</td>\n",
       "      <td>1030.000000</td>\n",
       "      <td>1030.000000</td>\n",
       "      <td>1030.000000</td>\n",
       "      <td>1030.000000</td>\n",
       "    </tr>\n",
       "    <tr>\n",
       "      <th>mean</th>\n",
       "      <td>281.167864</td>\n",
       "      <td>73.895825</td>\n",
       "      <td>54.188350</td>\n",
       "      <td>181.567282</td>\n",
       "      <td>6.204660</td>\n",
       "      <td>972.918932</td>\n",
       "      <td>773.580485</td>\n",
       "      <td>45.662136</td>\n",
       "      <td>35.817961</td>\n",
       "    </tr>\n",
       "    <tr>\n",
       "      <th>std</th>\n",
       "      <td>104.506364</td>\n",
       "      <td>86.279342</td>\n",
       "      <td>63.997004</td>\n",
       "      <td>21.354219</td>\n",
       "      <td>5.973841</td>\n",
       "      <td>77.753954</td>\n",
       "      <td>80.175980</td>\n",
       "      <td>63.169912</td>\n",
       "      <td>16.705742</td>\n",
       "    </tr>\n",
       "    <tr>\n",
       "      <th>min</th>\n",
       "      <td>102.000000</td>\n",
       "      <td>0.000000</td>\n",
       "      <td>0.000000</td>\n",
       "      <td>121.800000</td>\n",
       "      <td>0.000000</td>\n",
       "      <td>801.000000</td>\n",
       "      <td>594.000000</td>\n",
       "      <td>1.000000</td>\n",
       "      <td>2.330000</td>\n",
       "    </tr>\n",
       "    <tr>\n",
       "      <th>25%</th>\n",
       "      <td>192.375000</td>\n",
       "      <td>0.000000</td>\n",
       "      <td>0.000000</td>\n",
       "      <td>164.900000</td>\n",
       "      <td>0.000000</td>\n",
       "      <td>932.000000</td>\n",
       "      <td>730.950000</td>\n",
       "      <td>7.000000</td>\n",
       "      <td>23.710000</td>\n",
       "    </tr>\n",
       "    <tr>\n",
       "      <th>50%</th>\n",
       "      <td>272.900000</td>\n",
       "      <td>22.000000</td>\n",
       "      <td>0.000000</td>\n",
       "      <td>185.000000</td>\n",
       "      <td>6.400000</td>\n",
       "      <td>968.000000</td>\n",
       "      <td>779.500000</td>\n",
       "      <td>28.000000</td>\n",
       "      <td>34.445000</td>\n",
       "    </tr>\n",
       "    <tr>\n",
       "      <th>75%</th>\n",
       "      <td>350.000000</td>\n",
       "      <td>142.950000</td>\n",
       "      <td>118.300000</td>\n",
       "      <td>192.000000</td>\n",
       "      <td>10.200000</td>\n",
       "      <td>1029.400000</td>\n",
       "      <td>824.000000</td>\n",
       "      <td>56.000000</td>\n",
       "      <td>46.135000</td>\n",
       "    </tr>\n",
       "    <tr>\n",
       "      <th>max</th>\n",
       "      <td>540.000000</td>\n",
       "      <td>359.400000</td>\n",
       "      <td>200.100000</td>\n",
       "      <td>247.000000</td>\n",
       "      <td>32.200000</td>\n",
       "      <td>1145.000000</td>\n",
       "      <td>992.600000</td>\n",
       "      <td>365.000000</td>\n",
       "      <td>82.600000</td>\n",
       "    </tr>\n",
       "  </tbody>\n",
       "</table>\n",
       "</div>"
      ],
      "text/plain": [
       "            Cement  Blast Furnace Slag      Fly Ash        Water  \\\n",
       "count  1030.000000         1030.000000  1030.000000  1030.000000   \n",
       "mean    281.167864           73.895825    54.188350   181.567282   \n",
       "std     104.506364           86.279342    63.997004    21.354219   \n",
       "min     102.000000            0.000000     0.000000   121.800000   \n",
       "25%     192.375000            0.000000     0.000000   164.900000   \n",
       "50%     272.900000           22.000000     0.000000   185.000000   \n",
       "75%     350.000000          142.950000   118.300000   192.000000   \n",
       "max     540.000000          359.400000   200.100000   247.000000   \n",
       "\n",
       "       Superplasticizer  Coarse Aggregate  Fine Aggregate          Age  \\\n",
       "count       1030.000000       1030.000000     1030.000000  1030.000000   \n",
       "mean           6.204660        972.918932      773.580485    45.662136   \n",
       "std            5.973841         77.753954       80.175980    63.169912   \n",
       "min            0.000000        801.000000      594.000000     1.000000   \n",
       "25%            0.000000        932.000000      730.950000     7.000000   \n",
       "50%            6.400000        968.000000      779.500000    28.000000   \n",
       "75%           10.200000       1029.400000      824.000000    56.000000   \n",
       "max           32.200000       1145.000000      992.600000   365.000000   \n",
       "\n",
       "          Strength  \n",
       "count  1030.000000  \n",
       "mean     35.817961  \n",
       "std      16.705742  \n",
       "min       2.330000  \n",
       "25%      23.710000  \n",
       "50%      34.445000  \n",
       "75%      46.135000  \n",
       "max      82.600000  "
      ]
     },
     "execution_count": 6,
     "metadata": {},
     "output_type": "execute_result"
    }
   ],
   "source": [
    "concrete_data.describe()"
   ]
  },
  {
   "cell_type": "code",
   "execution_count": 7,
   "metadata": {
    "tags": []
   },
   "outputs": [
    {
     "data": {
      "text/plain": [
       "Cement                0\n",
       "Blast Furnace Slag    0\n",
       "Fly Ash               0\n",
       "Water                 0\n",
       "Superplasticizer      0\n",
       "Coarse Aggregate      0\n",
       "Fine Aggregate        0\n",
       "Age                   0\n",
       "Strength              0\n",
       "dtype: int64"
      ]
     },
     "execution_count": 7,
     "metadata": {},
     "output_type": "execute_result"
    }
   ],
   "source": [
    "concrete_data.isnull().sum()"
   ]
  },
  {
   "cell_type": "markdown",
   "metadata": {},
   "source": [
    "The data has no missing values and appears to be very clean and is ready to be used to build our model.\n"
   ]
  },
  {
   "cell_type": "markdown",
   "metadata": {},
   "source": [
    "### 3. Spliting data into predictors and target\n"
   ]
  },
  {
   "cell_type": "markdown",
   "metadata": {},
   "source": [
    "The target variable in this problem is the concrete sample strength. Therefore, the predictors (features or x variables) will be all the other columns.\n"
   ]
  },
  {
   "cell_type": "code",
   "execution_count": 9,
   "metadata": {
    "tags": []
   },
   "outputs": [],
   "source": [
    "concrete_data_columns = concrete_data.columns\n",
    "\n",
    "predictors = concrete_data[concrete_data_columns[concrete_data_columns != 'Strength']] # all columns except Strength\n",
    "target = concrete_data['Strength'] # Strength column"
   ]
  },
  {
   "cell_type": "markdown",
   "metadata": {},
   "source": [
    "<a id=\"item2\"></a>\n"
   ]
  },
  {
   "cell_type": "markdown",
   "metadata": {},
   "source": [
    "Checking the predictors and the target dataframes.\n"
   ]
  },
  {
   "cell_type": "code",
   "execution_count": 10,
   "metadata": {
    "tags": []
   },
   "outputs": [
    {
     "data": {
      "text/html": [
       "<div>\n",
       "<style scoped>\n",
       "    .dataframe tbody tr th:only-of-type {\n",
       "        vertical-align: middle;\n",
       "    }\n",
       "\n",
       "    .dataframe tbody tr th {\n",
       "        vertical-align: top;\n",
       "    }\n",
       "\n",
       "    .dataframe thead th {\n",
       "        text-align: right;\n",
       "    }\n",
       "</style>\n",
       "<table border=\"1\" class=\"dataframe\">\n",
       "  <thead>\n",
       "    <tr style=\"text-align: right;\">\n",
       "      <th></th>\n",
       "      <th>Cement</th>\n",
       "      <th>Blast Furnace Slag</th>\n",
       "      <th>Fly Ash</th>\n",
       "      <th>Water</th>\n",
       "      <th>Superplasticizer</th>\n",
       "      <th>Coarse Aggregate</th>\n",
       "      <th>Fine Aggregate</th>\n",
       "      <th>Age</th>\n",
       "    </tr>\n",
       "  </thead>\n",
       "  <tbody>\n",
       "    <tr>\n",
       "      <th>0</th>\n",
       "      <td>540.0</td>\n",
       "      <td>0.0</td>\n",
       "      <td>0.0</td>\n",
       "      <td>162.0</td>\n",
       "      <td>2.5</td>\n",
       "      <td>1040.0</td>\n",
       "      <td>676.0</td>\n",
       "      <td>28</td>\n",
       "    </tr>\n",
       "    <tr>\n",
       "      <th>1</th>\n",
       "      <td>540.0</td>\n",
       "      <td>0.0</td>\n",
       "      <td>0.0</td>\n",
       "      <td>162.0</td>\n",
       "      <td>2.5</td>\n",
       "      <td>1055.0</td>\n",
       "      <td>676.0</td>\n",
       "      <td>28</td>\n",
       "    </tr>\n",
       "    <tr>\n",
       "      <th>2</th>\n",
       "      <td>332.5</td>\n",
       "      <td>142.5</td>\n",
       "      <td>0.0</td>\n",
       "      <td>228.0</td>\n",
       "      <td>0.0</td>\n",
       "      <td>932.0</td>\n",
       "      <td>594.0</td>\n",
       "      <td>270</td>\n",
       "    </tr>\n",
       "    <tr>\n",
       "      <th>3</th>\n",
       "      <td>332.5</td>\n",
       "      <td>142.5</td>\n",
       "      <td>0.0</td>\n",
       "      <td>228.0</td>\n",
       "      <td>0.0</td>\n",
       "      <td>932.0</td>\n",
       "      <td>594.0</td>\n",
       "      <td>365</td>\n",
       "    </tr>\n",
       "    <tr>\n",
       "      <th>4</th>\n",
       "      <td>198.6</td>\n",
       "      <td>132.4</td>\n",
       "      <td>0.0</td>\n",
       "      <td>192.0</td>\n",
       "      <td>0.0</td>\n",
       "      <td>978.4</td>\n",
       "      <td>825.5</td>\n",
       "      <td>360</td>\n",
       "    </tr>\n",
       "  </tbody>\n",
       "</table>\n",
       "</div>"
      ],
      "text/plain": [
       "   Cement  Blast Furnace Slag  Fly Ash  Water  Superplasticizer  \\\n",
       "0   540.0                 0.0      0.0  162.0               2.5   \n",
       "1   540.0                 0.0      0.0  162.0               2.5   \n",
       "2   332.5               142.5      0.0  228.0               0.0   \n",
       "3   332.5               142.5      0.0  228.0               0.0   \n",
       "4   198.6               132.4      0.0  192.0               0.0   \n",
       "\n",
       "   Coarse Aggregate  Fine Aggregate  Age  \n",
       "0            1040.0           676.0   28  \n",
       "1            1055.0           676.0   28  \n",
       "2             932.0           594.0  270  \n",
       "3             932.0           594.0  365  \n",
       "4             978.4           825.5  360  "
      ]
     },
     "execution_count": 10,
     "metadata": {},
     "output_type": "execute_result"
    }
   ],
   "source": [
    "predictors.head()"
   ]
  },
  {
   "cell_type": "code",
   "execution_count": 11,
   "metadata": {
    "tags": []
   },
   "outputs": [
    {
     "data": {
      "text/plain": [
       "0    79.99\n",
       "1    61.89\n",
       "2    40.27\n",
       "3    41.05\n",
       "4    44.30\n",
       "Name: Strength, dtype: float64"
      ]
     },
     "execution_count": 11,
     "metadata": {},
     "output_type": "execute_result"
    }
   ],
   "source": [
    "target.head()"
   ]
  },
  {
   "cell_type": "markdown",
   "metadata": {},
   "source": [
    "Normalizing the data by substracting the mean and dividing by the standard deviation.\n"
   ]
  },
  {
   "cell_type": "code",
   "execution_count": 13,
   "metadata": {
    "tags": []
   },
   "outputs": [
    {
     "data": {
      "text/html": [
       "<div>\n",
       "<style scoped>\n",
       "    .dataframe tbody tr th:only-of-type {\n",
       "        vertical-align: middle;\n",
       "    }\n",
       "\n",
       "    .dataframe tbody tr th {\n",
       "        vertical-align: top;\n",
       "    }\n",
       "\n",
       "    .dataframe thead th {\n",
       "        text-align: right;\n",
       "    }\n",
       "</style>\n",
       "<table border=\"1\" class=\"dataframe\">\n",
       "  <thead>\n",
       "    <tr style=\"text-align: right;\">\n",
       "      <th></th>\n",
       "      <th>Cement</th>\n",
       "      <th>Blast Furnace Slag</th>\n",
       "      <th>Fly Ash</th>\n",
       "      <th>Water</th>\n",
       "      <th>Superplasticizer</th>\n",
       "      <th>Coarse Aggregate</th>\n",
       "      <th>Fine Aggregate</th>\n",
       "      <th>Age</th>\n",
       "    </tr>\n",
       "  </thead>\n",
       "  <tbody>\n",
       "    <tr>\n",
       "      <th>0</th>\n",
       "      <td>2.476712</td>\n",
       "      <td>-0.856472</td>\n",
       "      <td>-0.846733</td>\n",
       "      <td>-0.916319</td>\n",
       "      <td>-0.620147</td>\n",
       "      <td>0.862735</td>\n",
       "      <td>-1.217079</td>\n",
       "      <td>-0.279597</td>\n",
       "    </tr>\n",
       "    <tr>\n",
       "      <th>1</th>\n",
       "      <td>2.476712</td>\n",
       "      <td>-0.856472</td>\n",
       "      <td>-0.846733</td>\n",
       "      <td>-0.916319</td>\n",
       "      <td>-0.620147</td>\n",
       "      <td>1.055651</td>\n",
       "      <td>-1.217079</td>\n",
       "      <td>-0.279597</td>\n",
       "    </tr>\n",
       "    <tr>\n",
       "      <th>2</th>\n",
       "      <td>0.491187</td>\n",
       "      <td>0.795140</td>\n",
       "      <td>-0.846733</td>\n",
       "      <td>2.174405</td>\n",
       "      <td>-1.038638</td>\n",
       "      <td>-0.526262</td>\n",
       "      <td>-2.239829</td>\n",
       "      <td>3.551340</td>\n",
       "    </tr>\n",
       "    <tr>\n",
       "      <th>3</th>\n",
       "      <td>0.491187</td>\n",
       "      <td>0.795140</td>\n",
       "      <td>-0.846733</td>\n",
       "      <td>2.174405</td>\n",
       "      <td>-1.038638</td>\n",
       "      <td>-0.526262</td>\n",
       "      <td>-2.239829</td>\n",
       "      <td>5.055221</td>\n",
       "    </tr>\n",
       "    <tr>\n",
       "      <th>4</th>\n",
       "      <td>-0.790075</td>\n",
       "      <td>0.678079</td>\n",
       "      <td>-0.846733</td>\n",
       "      <td>0.488555</td>\n",
       "      <td>-1.038638</td>\n",
       "      <td>0.070492</td>\n",
       "      <td>0.647569</td>\n",
       "      <td>4.976069</td>\n",
       "    </tr>\n",
       "  </tbody>\n",
       "</table>\n",
       "</div>"
      ],
      "text/plain": [
       "     Cement  Blast Furnace Slag   Fly Ash     Water  Superplasticizer  \\\n",
       "0  2.476712           -0.856472 -0.846733 -0.916319         -0.620147   \n",
       "1  2.476712           -0.856472 -0.846733 -0.916319         -0.620147   \n",
       "2  0.491187            0.795140 -0.846733  2.174405         -1.038638   \n",
       "3  0.491187            0.795140 -0.846733  2.174405         -1.038638   \n",
       "4 -0.790075            0.678079 -0.846733  0.488555         -1.038638   \n",
       "\n",
       "   Coarse Aggregate  Fine Aggregate       Age  \n",
       "0          0.862735       -1.217079 -0.279597  \n",
       "1          1.055651       -1.217079 -0.279597  \n",
       "2         -0.526262       -2.239829  3.551340  \n",
       "3         -0.526262       -2.239829  5.055221  \n",
       "4          0.070492        0.647569  4.976069  "
      ]
     },
     "execution_count": 13,
     "metadata": {},
     "output_type": "execute_result"
    }
   ],
   "source": [
    "predictors_norm = (predictors - predictors.mean()) / predictors.std()\n",
    "predictors_norm.head()"
   ]
  },
  {
   "cell_type": "markdown",
   "metadata": {},
   "source": [
    "Saving the number of predictors to *n_cols* since we will need this number when building our network.\n"
   ]
  },
  {
   "cell_type": "code",
   "execution_count": 15,
   "metadata": {
    "tags": []
   },
   "outputs": [],
   "source": [
    "n_cols = predictors_norm.shape[1] # number of predictors"
   ]
  },
  {
   "cell_type": "markdown",
   "metadata": {},
   "source": [
    "<a id=\"item1\"></a>\n"
   ]
  },
  {
   "cell_type": "markdown",
   "metadata": {},
   "source": [
    "<a id='item32'></a>\n"
   ]
  },
  {
   "cell_type": "markdown",
   "metadata": {},
   "source": [
    "### 4. Importing Keras\n"
   ]
  },
  {
   "cell_type": "markdown",
   "metadata": {},
   "source": [
    "note: Keras normally runs on top of a low-level library such as TensorFlow. This means that to be able to use the Keras library, you will have to install TensorFlow first usually\n"
   ]
  },
  {
   "cell_type": "code",
   "execution_count": 16,
   "metadata": {
    "tags": []
   },
   "outputs": [
    {
     "name": "stderr",
     "output_type": "stream",
     "text": [
      "Using TensorFlow backend.\n",
      "/home/jupyterlab/conda/envs/python/lib/python3.7/site-packages/tensorflow/python/framework/dtypes.py:516: FutureWarning: Passing (type, 1) or '1type' as a synonym of type is deprecated; in a future version of numpy, it will be understood as (type, (1,)) / '(1,)type'.\n",
      "  _np_qint8 = np.dtype([(\"qint8\", np.int8, 1)])\n",
      "/home/jupyterlab/conda/envs/python/lib/python3.7/site-packages/tensorflow/python/framework/dtypes.py:517: FutureWarning: Passing (type, 1) or '1type' as a synonym of type is deprecated; in a future version of numpy, it will be understood as (type, (1,)) / '(1,)type'.\n",
      "  _np_quint8 = np.dtype([(\"quint8\", np.uint8, 1)])\n",
      "/home/jupyterlab/conda/envs/python/lib/python3.7/site-packages/tensorflow/python/framework/dtypes.py:518: FutureWarning: Passing (type, 1) or '1type' as a synonym of type is deprecated; in a future version of numpy, it will be understood as (type, (1,)) / '(1,)type'.\n",
      "  _np_qint16 = np.dtype([(\"qint16\", np.int16, 1)])\n",
      "/home/jupyterlab/conda/envs/python/lib/python3.7/site-packages/tensorflow/python/framework/dtypes.py:519: FutureWarning: Passing (type, 1) or '1type' as a synonym of type is deprecated; in a future version of numpy, it will be understood as (type, (1,)) / '(1,)type'.\n",
      "  _np_quint16 = np.dtype([(\"quint16\", np.uint16, 1)])\n",
      "/home/jupyterlab/conda/envs/python/lib/python3.7/site-packages/tensorflow/python/framework/dtypes.py:520: FutureWarning: Passing (type, 1) or '1type' as a synonym of type is deprecated; in a future version of numpy, it will be understood as (type, (1,)) / '(1,)type'.\n",
      "  _np_qint32 = np.dtype([(\"qint32\", np.int32, 1)])\n",
      "/home/jupyterlab/conda/envs/python/lib/python3.7/site-packages/tensorflow/python/framework/dtypes.py:525: FutureWarning: Passing (type, 1) or '1type' as a synonym of type is deprecated; in a future version of numpy, it will be understood as (type, (1,)) / '(1,)type'.\n",
      "  np_resource = np.dtype([(\"resource\", np.ubyte, 1)])\n",
      "/home/jupyterlab/conda/envs/python/lib/python3.7/site-packages/tensorboard/compat/tensorflow_stub/dtypes.py:541: FutureWarning: Passing (type, 1) or '1type' as a synonym of type is deprecated; in a future version of numpy, it will be understood as (type, (1,)) / '(1,)type'.\n",
      "  _np_qint8 = np.dtype([(\"qint8\", np.int8, 1)])\n",
      "/home/jupyterlab/conda/envs/python/lib/python3.7/site-packages/tensorboard/compat/tensorflow_stub/dtypes.py:542: FutureWarning: Passing (type, 1) or '1type' as a synonym of type is deprecated; in a future version of numpy, it will be understood as (type, (1,)) / '(1,)type'.\n",
      "  _np_quint8 = np.dtype([(\"quint8\", np.uint8, 1)])\n",
      "/home/jupyterlab/conda/envs/python/lib/python3.7/site-packages/tensorboard/compat/tensorflow_stub/dtypes.py:543: FutureWarning: Passing (type, 1) or '1type' as a synonym of type is deprecated; in a future version of numpy, it will be understood as (type, (1,)) / '(1,)type'.\n",
      "  _np_qint16 = np.dtype([(\"qint16\", np.int16, 1)])\n",
      "/home/jupyterlab/conda/envs/python/lib/python3.7/site-packages/tensorboard/compat/tensorflow_stub/dtypes.py:544: FutureWarning: Passing (type, 1) or '1type' as a synonym of type is deprecated; in a future version of numpy, it will be understood as (type, (1,)) / '(1,)type'.\n",
      "  _np_quint16 = np.dtype([(\"quint16\", np.uint16, 1)])\n",
      "/home/jupyterlab/conda/envs/python/lib/python3.7/site-packages/tensorboard/compat/tensorflow_stub/dtypes.py:545: FutureWarning: Passing (type, 1) or '1type' as a synonym of type is deprecated; in a future version of numpy, it will be understood as (type, (1,)) / '(1,)type'.\n",
      "  _np_qint32 = np.dtype([(\"qint32\", np.int32, 1)])\n",
      "/home/jupyterlab/conda/envs/python/lib/python3.7/site-packages/tensorboard/compat/tensorflow_stub/dtypes.py:550: FutureWarning: Passing (type, 1) or '1type' as a synonym of type is deprecated; in a future version of numpy, it will be understood as (type, (1,)) / '(1,)type'.\n",
      "  np_resource = np.dtype([(\"resource\", np.ubyte, 1)])\n"
     ]
    }
   ],
   "source": [
    "import keras"
   ]
  },
  {
   "cell_type": "markdown",
   "metadata": {},
   "source": [
    "Importing the rest of the packages from the Keras library that we will need to build our regressoin model.\n"
   ]
  },
  {
   "cell_type": "code",
   "execution_count": 17,
   "metadata": {
    "tags": []
   },
   "outputs": [],
   "source": [
    "from keras.models import Sequential\n",
    "from keras.layers import Dense"
   ]
  },
  {
   "cell_type": "markdown",
   "metadata": {},
   "source": [
    "### A. Building a Neural Network\n"
   ]
  },
  {
   "cell_type": "markdown",
   "metadata": {},
   "source": [
    "Defining a function that defines the regression model so that we can conveniently call it to create our model.The model is composed of: \n",
    "\n",
    "* 1 hidden layer of 10 nodes (i.e., neurons or perceptrons), and a ReLU activation function \n",
    "* Adam Optimizer and mean squared error loss function\n",
    "\n"
   ]
  },
  {
   "cell_type": "code",
   "execution_count": 18,
   "metadata": {
    "tags": []
   },
   "outputs": [],
   "source": [
    "# define regression model\n",
    "def regression_model():\n",
    "    # create model\n",
    "    model = Sequential()\n",
    "    # 1 hidden layer with 10 nodes and ReLU activation\n",
    "    model.add(Dense(10, activation='relu', input_shape=(n_cols,)))  # Change the number of nodes to 10\n",
    "    # Output layer (1 node)\n",
    "    model.add(Dense(1))\n",
    "    # compile model with Adam optimizer and mean squared error loss\n",
    "    model.compile(optimizer='adam', loss='mean_squared_error')  # Use 'adam' optimizer and 'mean_squared_error' loss\n",
    "    return model"
   ]
  },
  {
   "cell_type": "markdown",
   "metadata": {},
   "source": [
    "#### Training and Testing the Network\n"
   ]
  },
  {
   "cell_type": "markdown",
   "metadata": {},
   "source": [
    "Calling the above function now to create our model.\n"
   ]
  },
  {
   "cell_type": "code",
   "execution_count": 19,
   "metadata": {
    "tags": []
   },
   "outputs": [
    {
     "name": "stdout",
     "output_type": "stream",
     "text": [
      "WARNING:tensorflow:From /home/jupyterlab/conda/envs/python/lib/python3.7/site-packages/keras/backend/tensorflow_backend.py:68: The name tf.get_default_graph is deprecated. Please use tf.compat.v1.get_default_graph instead.\n",
      "\n",
      "WARNING:tensorflow:From /home/jupyterlab/conda/envs/python/lib/python3.7/site-packages/keras/backend/tensorflow_backend.py:508: The name tf.placeholder is deprecated. Please use tf.compat.v1.placeholder instead.\n",
      "\n",
      "WARNING:tensorflow:From /home/jupyterlab/conda/envs/python/lib/python3.7/site-packages/keras/backend/tensorflow_backend.py:3837: The name tf.random_uniform is deprecated. Please use tf.random.uniform instead.\n",
      "\n",
      "WARNING:tensorflow:From /home/jupyterlab/conda/envs/python/lib/python3.7/site-packages/keras/optimizers.py:757: The name tf.train.Optimizer is deprecated. Please use tf.compat.v1.train.Optimizer instead.\n",
      "\n"
     ]
    }
   ],
   "source": [
    "# build the model\n",
    "model = regression_model()"
   ]
  },
  {
   "cell_type": "markdown",
   "metadata": {},
   "source": [
    "Training and testing the model at the same time using the *fit* method. We will leave out 30% of the data for testing and we will train the model for 50 epochs.\n"
   ]
  },
  {
   "cell_type": "code",
   "execution_count": 23,
   "metadata": {
    "tags": []
   },
   "outputs": [
    {
     "name": "stdout",
     "output_type": "stream",
     "text": [
      "Epoch 1/50\n",
      "721/721 [==============================] - 0s 99us/step - loss: 18507578.3786\n",
      "Epoch 2/50\n",
      "721/721 [==============================] - 0s 81us/step - loss: 9360682.9743\n",
      "Epoch 3/50\n",
      "721/721 [==============================] - 0s 119us/step - loss: 4477258.9872\n",
      "Epoch 4/50\n",
      "721/721 [==============================] - 0s 106us/step - loss: 2072541.6325\n",
      "Epoch 5/50\n",
      "721/721 [==============================] - 0s 101us/step - loss: 962672.9264\n",
      "Epoch 6/50\n",
      "721/721 [==============================] - 0s 89us/step - loss: 487830.8703\n",
      "Epoch 7/50\n",
      "721/721 [==============================] - 0s 108us/step - loss: 307846.5430\n",
      "Epoch 8/50\n",
      "721/721 [==============================] - 0s 107us/step - loss: 241207.8563\n",
      "Epoch 9/50\n",
      "721/721 [==============================] - 0s 107us/step - loss: 217296.1614\n",
      "Epoch 10/50\n",
      "721/721 [==============================] - 0s 110us/step - loss: 206340.2728\n",
      "Epoch 11/50\n",
      "721/721 [==============================] - 0s 111us/step - loss: 199145.3784\n",
      "Epoch 12/50\n",
      "721/721 [==============================] - 0s 87us/step - loss: 193158.4468\n",
      "Epoch 13/50\n",
      "721/721 [==============================] - 0s 103us/step - loss: 187588.8838\n",
      "Epoch 14/50\n",
      "721/721 [==============================] - 0s 109us/step - loss: 182163.4849\n",
      "Epoch 15/50\n",
      "721/721 [==============================] - 0s 106us/step - loss: 177187.8921\n",
      "Epoch 16/50\n",
      "721/721 [==============================] - 0s 94us/step - loss: 172296.4041\n",
      "Epoch 17/50\n",
      "721/721 [==============================] - 0s 103us/step - loss: 167478.0945\n",
      "Epoch 18/50\n",
      "721/721 [==============================] - 0s 106us/step - loss: 162787.6556\n",
      "Epoch 19/50\n",
      "721/721 [==============================] - 0s 88us/step - loss: 158336.1886\n",
      "Epoch 20/50\n",
      "721/721 [==============================] - 0s 106us/step - loss: 153972.3700\n",
      "Epoch 21/50\n",
      "721/721 [==============================] - 0s 84us/step - loss: 149825.2440\n",
      "Epoch 22/50\n",
      "721/721 [==============================] - 0s 88us/step - loss: 145623.8607\n",
      "Epoch 23/50\n",
      "721/721 [==============================] - 0s 92us/step - loss: 141598.7688\n",
      "Epoch 24/50\n",
      "721/721 [==============================] - 0s 89us/step - loss: 137716.5666\n",
      "Epoch 25/50\n",
      "721/721 [==============================] - 0s 88us/step - loss: 133980.5724\n",
      "Epoch 26/50\n",
      "721/721 [==============================] - 0s 96us/step - loss: 130231.2357\n",
      "Epoch 27/50\n",
      "721/721 [==============================] - 0s 90us/step - loss: 126666.9580\n",
      "Epoch 28/50\n",
      "721/721 [==============================] - 0s 96us/step - loss: 123256.1091\n",
      "Epoch 29/50\n",
      "721/721 [==============================] - 0s 87us/step - loss: 119749.0123\n",
      "Epoch 30/50\n",
      "721/721 [==============================] - 0s 102us/step - loss: 116532.8198\n",
      "Epoch 31/50\n",
      "721/721 [==============================] - 0s 91us/step - loss: 113297.9050\n",
      "Epoch 32/50\n",
      "721/721 [==============================] - 0s 87us/step - loss: 110125.3189\n",
      "Epoch 33/50\n",
      "721/721 [==============================] - 0s 94us/step - loss: 107088.4762\n",
      "Epoch 34/50\n",
      "721/721 [==============================] - 0s 109us/step - loss: 104141.8675\n",
      "Epoch 35/50\n",
      "721/721 [==============================] - 0s 111us/step - loss: 101338.6321\n",
      "Epoch 36/50\n",
      "721/721 [==============================] - 0s 90us/step - loss: 98415.8089\n",
      "Epoch 37/50\n",
      "721/721 [==============================] - 0s 110us/step - loss: 95750.8965\n",
      "Epoch 38/50\n",
      "721/721 [==============================] - 0s 86us/step - loss: 93042.1435\n",
      "Epoch 39/50\n",
      "721/721 [==============================] - 0s 84us/step - loss: 90441.2231\n",
      "Epoch 40/50\n",
      "721/721 [==============================] - 0s 91us/step - loss: 87963.7483\n",
      "Epoch 41/50\n",
      "721/721 [==============================] - 0s 107us/step - loss: 85514.5203\n",
      "Epoch 42/50\n",
      "721/721 [==============================] - 0s 102us/step - loss: 83107.6873\n",
      "Epoch 43/50\n",
      "721/721 [==============================] - 0s 96us/step - loss: 80750.2635\n",
      "Epoch 44/50\n",
      "721/721 [==============================] - 0s 104us/step - loss: 78504.1087\n",
      "Epoch 45/50\n",
      "721/721 [==============================] - 0s 106us/step - loss: 76321.8378\n",
      "Epoch 46/50\n",
      "721/721 [==============================] - 0s 167us/step - loss: 74173.1977\n",
      "Epoch 47/50\n",
      "721/721 [==============================] - 0s 112us/step - loss: 72111.7028\n",
      "Epoch 48/50\n",
      "721/721 [==============================] - 0s 105us/step - loss: 70126.3809\n",
      "Epoch 49/50\n",
      "721/721 [==============================] - 0s 106us/step - loss: 68129.0598\n",
      "Epoch 50/50\n",
      "721/721 [==============================] - 0s 92us/step - loss: 66231.5120\n",
      "309/309 [==============================] - 0s 24us/step\n",
      "Mean Squared Error on Test Data: 73878.39917071197\n"
     ]
    }
   ],
   "source": [
    "# fit the model\n",
    "#model.fit(predictors_norm, target, validation_split=0.3, epochs=100, verbose=2)\n",
    "\n",
    "from sklearn.model_selection import train_test_split\n",
    "\n",
    "# Split the data into training (70%) and testing (30%) sets\n",
    "X_train, X_test, y_train, y_test = train_test_split(predictors, target, test_size=0.3, random_state=1)\n",
    "\n",
    "# Fit the model to the training data for 50 epochs\n",
    "model.fit(X_train, y_train, epochs=50)\n",
    "\n",
    "# Evaluate the model on the testing data\n",
    "loss = model.evaluate(X_test, y_test)\n",
    "\n",
    "print(\"Mean Squared Error on Test Data:\", loss)"
   ]
  },
  {
   "cell_type": "markdown",
   "metadata": {},
   "source": [
    "### B Training and Testing the Network with Normalised Data"
   ]
  },
  {
   "cell_type": "markdown",
   "metadata": {},
   "source": [
    "Replacing x variables to normalised version: predictors_norm"
   ]
  },
  {
   "cell_type": "code",
   "execution_count": 24,
   "metadata": {
    "tags": []
   },
   "outputs": [
    {
     "name": "stdout",
     "output_type": "stream",
     "text": [
      "Epoch 1/50\n",
      "721/721 [==============================] - 0s 91us/step - loss: 219.6911\n",
      "Epoch 2/50\n",
      "721/721 [==============================] - 0s 89us/step - loss: 216.1510\n",
      "Epoch 3/50\n",
      "721/721 [==============================] - 0s 103us/step - loss: 212.6212\n",
      "Epoch 4/50\n",
      "721/721 [==============================] - 0s 87us/step - loss: 209.5319\n",
      "Epoch 5/50\n",
      "721/721 [==============================] - 0s 89us/step - loss: 206.6669\n",
      "Epoch 6/50\n",
      "721/721 [==============================] - 0s 105us/step - loss: 204.1028\n",
      "Epoch 7/50\n",
      "721/721 [==============================] - 0s 90us/step - loss: 201.7664\n",
      "Epoch 8/50\n",
      "721/721 [==============================] - 0s 80us/step - loss: 199.5429\n",
      "Epoch 9/50\n",
      "721/721 [==============================] - 0s 87us/step - loss: 197.5564\n",
      "Epoch 10/50\n",
      "721/721 [==============================] - 0s 90us/step - loss: 195.4475\n",
      "Epoch 11/50\n",
      "721/721 [==============================] - 0s 88us/step - loss: 193.5339\n",
      "Epoch 12/50\n",
      "721/721 [==============================] - 0s 98us/step - loss: 191.6637\n",
      "Epoch 13/50\n",
      "721/721 [==============================] - 0s 86us/step - loss: 189.8712\n",
      "Epoch 14/50\n",
      "721/721 [==============================] - 0s 105us/step - loss: 188.1378\n",
      "Epoch 15/50\n",
      "721/721 [==============================] - 0s 92us/step - loss: 186.3353\n",
      "Epoch 16/50\n",
      "721/721 [==============================] - 0s 99us/step - loss: 184.6595\n",
      "Epoch 17/50\n",
      "721/721 [==============================] - 0s 85us/step - loss: 182.8948\n",
      "Epoch 18/50\n",
      "721/721 [==============================] - 0s 86us/step - loss: 181.2176\n",
      "Epoch 19/50\n",
      "721/721 [==============================] - 0s 102us/step - loss: 179.6175\n",
      "Epoch 20/50\n",
      "721/721 [==============================] - 0s 88us/step - loss: 177.9786\n",
      "Epoch 21/50\n",
      "721/721 [==============================] - 0s 103us/step - loss: 176.3462\n",
      "Epoch 22/50\n",
      "721/721 [==============================] - 0s 92us/step - loss: 174.6595\n",
      "Epoch 23/50\n",
      "721/721 [==============================] - 0s 104us/step - loss: 173.0680\n",
      "Epoch 24/50\n",
      "721/721 [==============================] - 0s 86us/step - loss: 171.5160\n",
      "Epoch 25/50\n",
      "721/721 [==============================] - 0s 99us/step - loss: 169.7882\n",
      "Epoch 26/50\n",
      "721/721 [==============================] - 0s 90us/step - loss: 168.1984\n",
      "Epoch 27/50\n",
      "721/721 [==============================] - 0s 86us/step - loss: 166.4693\n",
      "Epoch 28/50\n",
      "721/721 [==============================] - 0s 101us/step - loss: 164.9225\n",
      "Epoch 29/50\n",
      "721/721 [==============================] - 0s 105us/step - loss: 163.2371\n",
      "Epoch 30/50\n",
      "721/721 [==============================] - 0s 86us/step - loss: 161.7747\n",
      "Epoch 31/50\n",
      "721/721 [==============================] - 0s 105us/step - loss: 160.0823\n",
      "Epoch 32/50\n",
      "721/721 [==============================] - 0s 90us/step - loss: 158.6377\n",
      "Epoch 33/50\n",
      "721/721 [==============================] - 0s 107us/step - loss: 157.2056\n",
      "Epoch 34/50\n",
      "721/721 [==============================] - 0s 88us/step - loss: 155.7824\n",
      "Epoch 35/50\n",
      "721/721 [==============================] - 0s 91us/step - loss: 154.3222\n",
      "Epoch 36/50\n",
      "721/721 [==============================] - 0s 108us/step - loss: 152.9684\n",
      "Epoch 37/50\n",
      "721/721 [==============================] - 0s 103us/step - loss: 151.5752\n",
      "Epoch 38/50\n",
      "721/721 [==============================] - 0s 87us/step - loss: 150.2334\n",
      "Epoch 39/50\n",
      "721/721 [==============================] - 0s 87us/step - loss: 148.9148\n",
      "Epoch 40/50\n",
      "721/721 [==============================] - 0s 128us/step - loss: 147.5976\n",
      "Epoch 41/50\n",
      "721/721 [==============================] - 0s 89us/step - loss: 146.3457\n",
      "Epoch 42/50\n",
      "721/721 [==============================] - 0s 107us/step - loss: 145.0518\n",
      "Epoch 43/50\n",
      "721/721 [==============================] - 0s 109us/step - loss: 143.7336\n",
      "Epoch 44/50\n",
      "721/721 [==============================] - 0s 103us/step - loss: 142.4149\n",
      "Epoch 45/50\n",
      "721/721 [==============================] - 0s 137us/step - loss: 141.2055\n",
      "Epoch 46/50\n",
      "721/721 [==============================] - 0s 90us/step - loss: 139.9804\n",
      "Epoch 47/50\n",
      "721/721 [==============================] - 0s 93us/step - loss: 138.8047\n",
      "Epoch 48/50\n",
      "721/721 [==============================] - 0s 92us/step - loss: 137.5975\n",
      "Epoch 49/50\n",
      "721/721 [==============================] - 0s 107us/step - loss: 136.4572\n",
      "Epoch 50/50\n",
      "721/721 [==============================] - 0s 87us/step - loss: 135.3294\n",
      "309/309 [==============================] - 0s 23us/step\n",
      "Mean Squared Error on Test Data: 165.33679688092573\n"
     ]
    }
   ],
   "source": [
    "# Split the data into training (70%) and testing (30%) sets\n",
    "X_train, X_test, y_train, y_test = train_test_split(predictors_norm, target, test_size=0.3, random_state=1)\n",
    "\n",
    "# Fit the model to the training data for 50 epochs\n",
    "model.fit(X_train, y_train, epochs=50)\n",
    "\n",
    "# Evaluate the model on the testing data\n",
    "loss = model.evaluate(X_test, y_test)\n",
    "\n",
    "print(\"Mean Squared Error on Test Data:\", loss)"
   ]
  },
  {
   "cell_type": "markdown",
   "metadata": {},
   "source": [
    "Mean squared error on test data is now much lower"
   ]
  },
  {
   "cell_type": "markdown",
   "metadata": {},
   "source": [
    "### C Training and Testing the Network with Normalised Data and 100 epochs "
   ]
  },
  {
   "cell_type": "code",
   "execution_count": 25,
   "metadata": {
    "tags": []
   },
   "outputs": [
    {
     "name": "stdout",
     "output_type": "stream",
     "text": [
      "Epoch 1/100\n",
      "721/721 [==============================] - 0s 96us/step - loss: 134.2134\n",
      "Epoch 2/100\n",
      "721/721 [==============================] - 0s 142us/step - loss: 133.1263\n",
      "Epoch 3/100\n",
      "721/721 [==============================] - 0s 87us/step - loss: 132.0580\n",
      "Epoch 4/100\n",
      "721/721 [==============================] - 0s 103us/step - loss: 131.0096\n",
      "Epoch 5/100\n",
      "721/721 [==============================] - 0s 86us/step - loss: 130.0013\n",
      "Epoch 6/100\n",
      "721/721 [==============================] - 0s 86us/step - loss: 128.9798\n",
      "Epoch 7/100\n",
      "721/721 [==============================] - 0s 110us/step - loss: 127.9791\n",
      "Epoch 8/100\n",
      "721/721 [==============================] - 0s 90us/step - loss: 127.0206\n",
      "Epoch 9/100\n",
      "721/721 [==============================] - 0s 102us/step - loss: 125.9498\n",
      "Epoch 10/100\n",
      "721/721 [==============================] - 0s 83us/step - loss: 125.0035\n",
      "Epoch 11/100\n",
      "721/721 [==============================] - 0s 90us/step - loss: 123.9465\n",
      "Epoch 12/100\n",
      "721/721 [==============================] - 0s 84us/step - loss: 122.9682\n",
      "Epoch 13/100\n",
      "721/721 [==============================] - 0s 82us/step - loss: 122.0170\n",
      "Epoch 14/100\n",
      "721/721 [==============================] - 0s 102us/step - loss: 120.9854\n",
      "Epoch 15/100\n",
      "721/721 [==============================] - 0s 81us/step - loss: 119.9982\n",
      "Epoch 16/100\n",
      "721/721 [==============================] - 0s 85us/step - loss: 119.0430\n",
      "Epoch 17/100\n",
      "721/721 [==============================] - 0s 84us/step - loss: 118.1258\n",
      "Epoch 18/100\n",
      "721/721 [==============================] - 0s 84us/step - loss: 117.3495\n",
      "Epoch 19/100\n",
      "721/721 [==============================] - 0s 87us/step - loss: 116.2757\n",
      "Epoch 20/100\n",
      "721/721 [==============================] - 0s 108us/step - loss: 115.3935\n",
      "Epoch 21/100\n",
      "721/721 [==============================] - 0s 84us/step - loss: 114.5479\n",
      "Epoch 22/100\n",
      "721/721 [==============================] - 0s 103us/step - loss: 113.6880\n",
      "Epoch 23/100\n",
      "721/721 [==============================] - 0s 88us/step - loss: 112.7884\n",
      "Epoch 24/100\n",
      "721/721 [==============================] - 0s 106us/step - loss: 111.9288\n",
      "Epoch 25/100\n",
      "721/721 [==============================] - 0s 84us/step - loss: 111.1078\n",
      "Epoch 26/100\n",
      "721/721 [==============================] - 0s 104us/step - loss: 110.2286\n",
      "Epoch 27/100\n",
      "721/721 [==============================] - 0s 68us/step - loss: 109.4192\n",
      "Epoch 28/100\n",
      "721/721 [==============================] - 0s 86us/step - loss: 108.5750\n",
      "Epoch 29/100\n",
      "721/721 [==============================] - 0s 88us/step - loss: 107.7455\n",
      "Epoch 30/100\n",
      "721/721 [==============================] - 0s 83us/step - loss: 106.9847\n",
      "Epoch 31/100\n",
      "721/721 [==============================] - 0s 82us/step - loss: 106.1455\n",
      "Epoch 32/100\n",
      "721/721 [==============================] - 0s 83us/step - loss: 105.3274\n",
      "Epoch 33/100\n",
      "721/721 [==============================] - 0s 96us/step - loss: 104.5540\n",
      "Epoch 34/100\n",
      "721/721 [==============================] - 0s 66us/step - loss: 103.7355\n",
      "Epoch 35/100\n",
      "721/721 [==============================] - 0s 81us/step - loss: 103.0156\n",
      "Epoch 36/100\n",
      "721/721 [==============================] - 0s 81us/step - loss: 102.3138\n",
      "Epoch 37/100\n",
      "721/721 [==============================] - 0s 98us/step - loss: 101.5658\n",
      "Epoch 38/100\n",
      "721/721 [==============================] - 0s 87us/step - loss: 100.8447\n",
      "Epoch 39/100\n",
      "721/721 [==============================] - 0s 88us/step - loss: 100.1908\n",
      "Epoch 40/100\n",
      "721/721 [==============================] - 0s 102us/step - loss: 99.5110\n",
      "Epoch 41/100\n",
      "721/721 [==============================] - 0s 86us/step - loss: 98.8093\n",
      "Epoch 42/100\n",
      "721/721 [==============================] - 0s 85us/step - loss: 98.1435\n",
      "Epoch 43/100\n",
      "721/721 [==============================] - 0s 84us/step - loss: 97.5062\n",
      "Epoch 44/100\n",
      "721/721 [==============================] - 0s 84us/step - loss: 96.8496\n",
      "Epoch 45/100\n",
      "721/721 [==============================] - 0s 69us/step - loss: 96.2247\n",
      "Epoch 46/100\n",
      "721/721 [==============================] - 0s 99us/step - loss: 95.6200\n",
      "Epoch 47/100\n",
      "721/721 [==============================] - 0s 83us/step - loss: 94.9945\n",
      "Epoch 48/100\n",
      "721/721 [==============================] - 0s 82us/step - loss: 94.3915\n",
      "Epoch 49/100\n",
      "721/721 [==============================] - 0s 81us/step - loss: 93.7712\n",
      "Epoch 50/100\n",
      "721/721 [==============================] - 0s 81us/step - loss: 93.1851\n",
      "Epoch 51/100\n",
      "721/721 [==============================] - 0s 78us/step - loss: 92.6233\n",
      "Epoch 52/100\n",
      "721/721 [==============================] - 0s 65us/step - loss: 91.9761\n",
      "Epoch 53/100\n",
      "721/721 [==============================] - 0s 82us/step - loss: 91.3273\n",
      "Epoch 54/100\n",
      "721/721 [==============================] - 0s 81us/step - loss: 90.7249\n",
      "Epoch 55/100\n",
      "721/721 [==============================] - 0s 84us/step - loss: 90.1085\n",
      "Epoch 56/100\n",
      "721/721 [==============================] - 0s 76us/step - loss: 89.4842\n",
      "Epoch 57/100\n",
      "721/721 [==============================] - 0s 81us/step - loss: 88.9791\n",
      "Epoch 58/100\n",
      "721/721 [==============================] - 0s 81us/step - loss: 88.4245\n",
      "Epoch 59/100\n",
      "721/721 [==============================] - 0s 82us/step - loss: 87.8392\n",
      "Epoch 60/100\n",
      "721/721 [==============================] - 0s 80us/step - loss: 87.3576\n",
      "Epoch 61/100\n",
      "721/721 [==============================] - 0s 83us/step - loss: 86.8357\n",
      "Epoch 62/100\n",
      "721/721 [==============================] - 0s 81us/step - loss: 86.3728\n",
      "Epoch 63/100\n",
      "721/721 [==============================] - 0s 87us/step - loss: 85.8504\n",
      "Epoch 64/100\n",
      "721/721 [==============================] - 0s 78us/step - loss: 85.3977\n",
      "Epoch 65/100\n",
      "721/721 [==============================] - 0s 79us/step - loss: 84.8488\n",
      "Epoch 66/100\n",
      "721/721 [==============================] - 0s 67us/step - loss: 84.3654\n",
      "Epoch 67/100\n",
      "721/721 [==============================] - 0s 70us/step - loss: 83.8608\n",
      "Epoch 68/100\n",
      "721/721 [==============================] - 0s 64us/step - loss: 83.3477\n",
      "Epoch 69/100\n",
      "721/721 [==============================] - 0s 107us/step - loss: 82.8815\n",
      "Epoch 70/100\n",
      "721/721 [==============================] - 0s 65us/step - loss: 82.3520\n",
      "Epoch 71/100\n",
      "721/721 [==============================] - 0s 78us/step - loss: 81.8895\n",
      "Epoch 72/100\n",
      "721/721 [==============================] - 0s 79us/step - loss: 81.4141\n",
      "Epoch 73/100\n",
      "721/721 [==============================] - 0s 81us/step - loss: 81.0042\n",
      "Epoch 74/100\n",
      "721/721 [==============================] - 0s 83us/step - loss: 80.3980\n",
      "Epoch 75/100\n",
      "721/721 [==============================] - 0s 80us/step - loss: 79.8917\n",
      "Epoch 76/100\n",
      "721/721 [==============================] - 0s 78us/step - loss: 79.4167\n",
      "Epoch 77/100\n",
      "721/721 [==============================] - 0s 86us/step - loss: 78.9175\n",
      "Epoch 78/100\n",
      "721/721 [==============================] - 0s 83us/step - loss: 78.3983\n",
      "Epoch 79/100\n",
      "721/721 [==============================] - 0s 80us/step - loss: 77.9257\n",
      "Epoch 80/100\n",
      "721/721 [==============================] - 0s 78us/step - loss: 77.4274\n",
      "Epoch 81/100\n",
      "721/721 [==============================] - 0s 76us/step - loss: 76.9200\n",
      "Epoch 82/100\n",
      "721/721 [==============================] - 0s 66us/step - loss: 76.4576\n",
      "Epoch 83/100\n",
      "721/721 [==============================] - 0s 82us/step - loss: 75.9617\n",
      "Epoch 84/100\n",
      "721/721 [==============================] - 0s 81us/step - loss: 75.4825\n",
      "Epoch 85/100\n",
      "721/721 [==============================] - 0s 77us/step - loss: 74.9540\n",
      "Epoch 86/100\n",
      "721/721 [==============================] - 0s 80us/step - loss: 74.4469\n",
      "Epoch 87/100\n",
      "721/721 [==============================] - 0s 113us/step - loss: 73.9782\n",
      "Epoch 88/100\n",
      "721/721 [==============================] - 0s 102us/step - loss: 73.4953\n",
      "Epoch 89/100\n",
      "721/721 [==============================] - 0s 66us/step - loss: 73.0069\n",
      "Epoch 90/100\n",
      "721/721 [==============================] - 0s 78us/step - loss: 72.5010\n",
      "Epoch 91/100\n",
      "721/721 [==============================] - 0s 76us/step - loss: 72.0521\n",
      "Epoch 92/100\n",
      "721/721 [==============================] - 0s 65us/step - loss: 71.6100\n",
      "Epoch 93/100\n",
      "721/721 [==============================] - 0s 76us/step - loss: 71.1620\n",
      "Epoch 94/100\n",
      "721/721 [==============================] - 0s 82us/step - loss: 70.7323\n",
      "Epoch 95/100\n",
      "721/721 [==============================] - 0s 81us/step - loss: 70.2648\n",
      "Epoch 96/100\n",
      "721/721 [==============================] - 0s 83us/step - loss: 69.8206\n",
      "Epoch 97/100\n",
      "721/721 [==============================] - 0s 85us/step - loss: 69.3698\n",
      "Epoch 98/100\n",
      "721/721 [==============================] - 0s 78us/step - loss: 68.9293\n",
      "Epoch 99/100\n",
      "721/721 [==============================] - 0s 73us/step - loss: 68.4718\n",
      "Epoch 100/100\n",
      "721/721 [==============================] - 0s 67us/step - loss: 68.0606\n",
      "309/309 [==============================] - 0s 47us/step\n",
      "Mean Squared Error on Test Data: 86.27609178857895\n"
     ]
    }
   ],
   "source": [
    "# Split the data into training (70%) and testing (30%) sets\n",
    "X_train, X_test, y_train, y_test = train_test_split(predictors_norm, target, test_size=0.3, random_state=1)\n",
    "\n",
    "# Fit the model to the training data for 50 epochs\n",
    "model.fit(X_train, y_train, epochs=100)\n",
    "\n",
    "# Evaluate the model on the testing data\n",
    "loss = model.evaluate(X_test, y_test)\n",
    "\n",
    "print(\"Mean Squared Error on Test Data:\", loss)"
   ]
  },
  {
   "cell_type": "markdown",
   "metadata": {
    "tags": []
   },
   "source": [
    "Mean Squared error has further reduced "
   ]
  },
  {
   "cell_type": "markdown",
   "metadata": {
    "tags": []
   },
   "source": [
    "### D Training and Testing the Network with Normalised Data, 50 epochs, and new model consisting of 3 hidden layers, of 10 nodes each, and ReLU activation function"
   ]
  },
  {
   "cell_type": "code",
   "execution_count": 28,
   "metadata": {
    "tags": []
   },
   "outputs": [],
   "source": [
    "def regression_model():\n",
    "    # create model\n",
    "    model = Sequential()\n",
    "    # First hidden layer with 10 nodes and ReLU activation\n",
    "    model.add(Dense(10, activation='relu', input_shape=(n_cols,)))\n",
    "    # Second hidden layer with 10 nodes and ReLU activation\n",
    "    model.add(Dense(10, activation='relu'))\n",
    "    # Third hidden layer with 10 nodes and ReLU activation\n",
    "    model.add(Dense(10, activation='relu'))\n",
    "    # Output layer (1 node)\n",
    "    model.add(Dense(1))\n",
    "    # compile model with Adam optimizer and mean squared error loss\n",
    "    model.compile(optimizer='adam', loss='mean_squared_error')\n",
    "    return model"
   ]
  },
  {
   "cell_type": "code",
   "execution_count": 29,
   "metadata": {
    "tags": []
   },
   "outputs": [],
   "source": [
    "# build the model\n",
    "model = regression_model()"
   ]
  },
  {
   "cell_type": "code",
   "execution_count": 30,
   "metadata": {
    "tags": []
   },
   "outputs": [
    {
     "name": "stdout",
     "output_type": "stream",
     "text": [
      "Epoch 1/50\n",
      "721/721 [==============================] - 0s 510us/step - loss: 1491.8486\n",
      "Epoch 2/50\n",
      "721/721 [==============================] - 0s 170us/step - loss: 1452.6857\n",
      "Epoch 3/50\n",
      "721/721 [==============================] - 0s 165us/step - loss: 1393.8917\n",
      "Epoch 4/50\n",
      "721/721 [==============================] - 0s 189us/step - loss: 1301.0479\n",
      "Epoch 5/50\n",
      "721/721 [==============================] - 0s 170us/step - loss: 1156.5201\n",
      "Epoch 6/50\n",
      "721/721 [==============================] - 0s 163us/step - loss: 960.6498\n",
      "Epoch 7/50\n",
      "721/721 [==============================] - 0s 137us/step - loss: 725.3666\n",
      "Epoch 8/50\n",
      "721/721 [==============================] - 0s 156us/step - loss: 505.7230\n",
      "Epoch 9/50\n",
      "721/721 [==============================] - 0s 138us/step - loss: 352.3506\n",
      "Epoch 10/50\n",
      "721/721 [==============================] - 0s 118us/step - loss: 281.9698\n",
      "Epoch 11/50\n",
      "721/721 [==============================] - 0s 131us/step - loss: 250.2184\n",
      "Epoch 12/50\n",
      "721/721 [==============================] - 0s 120us/step - loss: 230.6073\n",
      "Epoch 13/50\n",
      "721/721 [==============================] - 0s 128us/step - loss: 217.0045\n",
      "Epoch 14/50\n",
      "721/721 [==============================] - 0s 128us/step - loss: 206.1521\n",
      "Epoch 15/50\n",
      "721/721 [==============================] - 0s 117us/step - loss: 197.7904\n",
      "Epoch 16/50\n",
      "721/721 [==============================] - 0s 122us/step - loss: 191.4073\n",
      "Epoch 17/50\n",
      "721/721 [==============================] - 0s 124us/step - loss: 186.0563\n",
      "Epoch 18/50\n",
      "721/721 [==============================] - 0s 114us/step - loss: 181.3781\n",
      "Epoch 19/50\n",
      "721/721 [==============================] - 0s 135us/step - loss: 177.2502\n",
      "Epoch 20/50\n",
      "721/721 [==============================] - 0s 132us/step - loss: 173.7154\n",
      "Epoch 21/50\n",
      "721/721 [==============================] - 0s 111us/step - loss: 170.4611\n",
      "Epoch 22/50\n",
      "721/721 [==============================] - 0s 91us/step - loss: 167.1721\n",
      "Epoch 23/50\n",
      "721/721 [==============================] - 0s 126us/step - loss: 164.4856\n",
      "Epoch 24/50\n",
      "721/721 [==============================] - 0s 116us/step - loss: 161.5721\n",
      "Epoch 25/50\n",
      "721/721 [==============================] - 0s 163us/step - loss: 159.1724\n",
      "Epoch 26/50\n",
      "721/721 [==============================] - 0s 110us/step - loss: 156.6678\n",
      "Epoch 27/50\n",
      "721/721 [==============================] - 0s 133us/step - loss: 154.4817\n",
      "Epoch 28/50\n",
      "721/721 [==============================] - 0s 115us/step - loss: 152.4888\n",
      "Epoch 29/50\n",
      "721/721 [==============================] - 0s 131us/step - loss: 149.8563\n",
      "Epoch 30/50\n",
      "721/721 [==============================] - 0s 115us/step - loss: 147.9155\n",
      "Epoch 31/50\n",
      "721/721 [==============================] - 0s 132us/step - loss: 145.0215\n",
      "Epoch 32/50\n",
      "721/721 [==============================] - 0s 107us/step - loss: 142.3587\n",
      "Epoch 33/50\n",
      "721/721 [==============================] - 0s 92us/step - loss: 139.8696\n",
      "Epoch 34/50\n",
      "721/721 [==============================] - 0s 122us/step - loss: 137.0827\n",
      "Epoch 35/50\n",
      "721/721 [==============================] - 0s 126us/step - loss: 134.6680\n",
      "Epoch 36/50\n",
      "721/721 [==============================] - 0s 117us/step - loss: 132.1996\n",
      "Epoch 37/50\n",
      "721/721 [==============================] - 0s 129us/step - loss: 129.7983\n",
      "Epoch 38/50\n",
      "721/721 [==============================] - 0s 117us/step - loss: 127.4515\n",
      "Epoch 39/50\n",
      "721/721 [==============================] - 0s 131us/step - loss: 124.7530\n",
      "Epoch 40/50\n",
      "721/721 [==============================] - 0s 115us/step - loss: 122.4182\n",
      "Epoch 41/50\n",
      "721/721 [==============================] - 0s 131us/step - loss: 120.1338\n",
      "Epoch 42/50\n",
      "721/721 [==============================] - 0s 145us/step - loss: 117.8690\n",
      "Epoch 43/50\n",
      "721/721 [==============================] - 0s 242us/step - loss: 115.4707\n",
      "Epoch 44/50\n",
      "721/721 [==============================] - 0s 251us/step - loss: 113.2128\n",
      "Epoch 45/50\n",
      "721/721 [==============================] - 0s 226us/step - loss: 111.5121\n",
      "Epoch 46/50\n",
      "721/721 [==============================] - 0s 279us/step - loss: 109.0042\n",
      "Epoch 47/50\n",
      "721/721 [==============================] - 0s 249us/step - loss: 107.0656\n",
      "Epoch 48/50\n",
      "721/721 [==============================] - 0s 255us/step - loss: 104.7663\n",
      "Epoch 49/50\n",
      "721/721 [==============================] - 0s 250us/step - loss: 102.7839\n",
      "Epoch 50/50\n",
      "721/721 [==============================] - 0s 356us/step - loss: 100.4437\n",
      "309/309 [==============================] - 0s 388us/step\n",
      "Mean Squared Error on Test Data: 131.01710762097997\n"
     ]
    }
   ],
   "source": [
    "# Split the data into training (70%) and testing (30%) sets\n",
    "X_train, X_test, y_train, y_test = train_test_split(predictors_norm, target, test_size=0.3, random_state=1)\n",
    "\n",
    "# Fit the model to the training data for 50 epochs\n",
    "model.fit(X_train, y_train, epochs=50)\n",
    "\n",
    "# Evaluate the model on the testing data\n",
    "loss = model.evaluate(X_test, y_test)\n",
    "\n",
    "print(\"Mean Squared Error on Test Data:\", loss)"
   ]
  },
  {
   "cell_type": "code",
   "execution_count": null,
   "metadata": {},
   "outputs": [],
   "source": [
    "The Mean Squared Error has increased meaning the original model wit"
   ]
  }
 ],
 "metadata": {
  "kernelspec": {
   "display_name": "Python",
   "language": "python",
   "name": "conda-env-python-py"
  },
  "language_info": {
   "codemirror_mode": {
    "name": "ipython",
    "version": 3
   },
   "file_extension": ".py",
   "mimetype": "text/x-python",
   "name": "python",
   "nbconvert_exporter": "python",
   "pygments_lexer": "ipython3",
   "version": "3.7.12"
  }
 },
 "nbformat": 4,
 "nbformat_minor": 4
}
